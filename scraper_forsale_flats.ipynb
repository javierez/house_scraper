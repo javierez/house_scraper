{
 "cells": [
  {
   "cell_type": "markdown",
   "id": "060b3627",
   "metadata": {},
   "source": []
  },
  {
   "cell_type": "code",
   "execution_count": 1,
   "id": "368d8ee0",
   "metadata": {},
   "outputs": [
    {
     "name": "stdout",
     "output_type": "stream",
     "text": [
      "Requirement already satisfied: selenium in /usr/local/Cellar/jupyterlab/3.2.8/libexec/lib/python3.9/site-packages (4.5.0)\n",
      "Requirement already satisfied: urllib3[socks]~=1.26 in /usr/local/Cellar/jupyterlab/3.2.8/libexec/lib/python3.9/site-packages (from selenium) (1.26.8)\n",
      "Requirement already satisfied: trio~=0.17 in /usr/local/Cellar/jupyterlab/3.2.8/libexec/lib/python3.9/site-packages (from selenium) (0.22.0)\n",
      "Requirement already satisfied: certifi>=2021.10.8 in /usr/local/Cellar/jupyterlab/3.2.8/libexec/lib/python3.9/site-packages (from selenium) (2021.10.8)\n",
      "Requirement already satisfied: trio-websocket~=0.9 in /usr/local/Cellar/jupyterlab/3.2.8/libexec/lib/python3.9/site-packages (from selenium) (0.9.2)\n",
      "Requirement already satisfied: idna in /usr/local/Cellar/jupyterlab/3.2.8/libexec/lib/python3.9/site-packages (from trio~=0.17->selenium) (3.3)\n",
      "Requirement already satisfied: outcome in /usr/local/Cellar/jupyterlab/3.2.8/libexec/lib/python3.9/site-packages (from trio~=0.17->selenium) (1.2.0)\n",
      "Requirement already satisfied: exceptiongroup>=1.0.0rc9 in /usr/local/Cellar/jupyterlab/3.2.8/libexec/lib/python3.9/site-packages (from trio~=0.17->selenium) (1.0.0)\n",
      "Requirement already satisfied: sniffio in /usr/local/Cellar/jupyterlab/3.2.8/libexec/lib/python3.9/site-packages (from trio~=0.17->selenium) (1.2.0)\n",
      "Requirement already satisfied: attrs>=19.2.0 in /usr/local/Cellar/jupyterlab/3.2.8/libexec/lib/python3.9/site-packages (from trio~=0.17->selenium) (21.4.0)\n",
      "Requirement already satisfied: async-generator>=1.9 in /usr/local/Cellar/jupyterlab/3.2.8/libexec/lib/python3.9/site-packages (from trio~=0.17->selenium) (1.10)\n",
      "Requirement already satisfied: sortedcontainers in /usr/local/Cellar/jupyterlab/3.2.8/libexec/lib/python3.9/site-packages (from trio~=0.17->selenium) (2.4.0)\n",
      "Requirement already satisfied: wsproto>=0.14 in /usr/local/Cellar/jupyterlab/3.2.8/libexec/lib/python3.9/site-packages (from trio-websocket~=0.9->selenium) (1.2.0)\n",
      "Requirement already satisfied: PySocks!=1.5.7,<2.0,>=1.5.6 in /usr/local/Cellar/jupyterlab/3.2.8/libexec/lib/python3.9/site-packages (from urllib3[socks]~=1.26->selenium) (1.7.1)\n",
      "Requirement already satisfied: h11<1,>=0.9.0 in /usr/local/Cellar/jupyterlab/3.2.8/libexec/lib/python3.9/site-packages (from wsproto>=0.14->trio-websocket~=0.9->selenium) (0.14.0)\n",
      "\u001b[33mWARNING: You are using pip version 21.3.1; however, version 22.3.1 is available.\n",
      "You should consider upgrading via the '/usr/local/Cellar/jupyterlab/3.2.8/libexec/bin/python3.9 -m pip install --upgrade pip' command.\u001b[0m\n",
      "Note: you may need to restart the kernel to use updated packages.\n"
     ]
    }
   ],
   "source": [
    "pip install selenium\n"
   ]
  },
  {
   "cell_type": "code",
   "execution_count": 2,
   "id": "b04fdc19",
   "metadata": {},
   "outputs": [
    {
     "name": "stdout",
     "output_type": "stream",
     "text": [
      "Requirement already satisfied: undetected-chromedriver in /usr/local/Cellar/jupyterlab/3.2.8/libexec/lib/python3.9/site-packages (3.1.6)\n",
      "Requirement already satisfied: selenium>=4.0.0 in /usr/local/Cellar/jupyterlab/3.2.8/libexec/lib/python3.9/site-packages (from undetected-chromedriver) (4.5.0)\n",
      "Requirement already satisfied: requests in /usr/local/Cellar/jupyterlab/3.2.8/libexec/lib/python3.9/site-packages (from undetected-chromedriver) (2.27.1)\n",
      "Requirement already satisfied: websockets in /usr/local/Cellar/jupyterlab/3.2.8/libexec/lib/python3.9/site-packages (from undetected-chromedriver) (10.4)\n",
      "Requirement already satisfied: certifi>=2021.10.8 in /usr/local/Cellar/jupyterlab/3.2.8/libexec/lib/python3.9/site-packages (from selenium>=4.0.0->undetected-chromedriver) (2021.10.8)\n",
      "Requirement already satisfied: urllib3[socks]~=1.26 in /usr/local/Cellar/jupyterlab/3.2.8/libexec/lib/python3.9/site-packages (from selenium>=4.0.0->undetected-chromedriver) (1.26.8)\n",
      "Requirement already satisfied: trio-websocket~=0.9 in /usr/local/Cellar/jupyterlab/3.2.8/libexec/lib/python3.9/site-packages (from selenium>=4.0.0->undetected-chromedriver) (0.9.2)\n",
      "Requirement already satisfied: trio~=0.17 in /usr/local/Cellar/jupyterlab/3.2.8/libexec/lib/python3.9/site-packages (from selenium>=4.0.0->undetected-chromedriver) (0.22.0)\n",
      "Requirement already satisfied: charset_normalizer~=2.0.0 in /usr/local/Cellar/jupyterlab/3.2.8/libexec/lib/python3.9/site-packages (from requests->undetected-chromedriver) (2.0.10)\n",
      "Requirement already satisfied: idna<4,>=2.5 in /usr/local/Cellar/jupyterlab/3.2.8/libexec/lib/python3.9/site-packages (from requests->undetected-chromedriver) (3.3)\n",
      "Requirement already satisfied: sortedcontainers in /usr/local/Cellar/jupyterlab/3.2.8/libexec/lib/python3.9/site-packages (from trio~=0.17->selenium>=4.0.0->undetected-chromedriver) (2.4.0)\n",
      "Requirement already satisfied: sniffio in /usr/local/Cellar/jupyterlab/3.2.8/libexec/lib/python3.9/site-packages (from trio~=0.17->selenium>=4.0.0->undetected-chromedriver) (1.2.0)\n",
      "Requirement already satisfied: attrs>=19.2.0 in /usr/local/Cellar/jupyterlab/3.2.8/libexec/lib/python3.9/site-packages (from trio~=0.17->selenium>=4.0.0->undetected-chromedriver) (21.4.0)\n",
      "Requirement already satisfied: outcome in /usr/local/Cellar/jupyterlab/3.2.8/libexec/lib/python3.9/site-packages (from trio~=0.17->selenium>=4.0.0->undetected-chromedriver) (1.2.0)\n",
      "Requirement already satisfied: async-generator>=1.9 in /usr/local/Cellar/jupyterlab/3.2.8/libexec/lib/python3.9/site-packages (from trio~=0.17->selenium>=4.0.0->undetected-chromedriver) (1.10)\n",
      "Requirement already satisfied: exceptiongroup>=1.0.0rc9 in /usr/local/Cellar/jupyterlab/3.2.8/libexec/lib/python3.9/site-packages (from trio~=0.17->selenium>=4.0.0->undetected-chromedriver) (1.0.0)\n",
      "Requirement already satisfied: wsproto>=0.14 in /usr/local/Cellar/jupyterlab/3.2.8/libexec/lib/python3.9/site-packages (from trio-websocket~=0.9->selenium>=4.0.0->undetected-chromedriver) (1.2.0)\n",
      "Requirement already satisfied: PySocks!=1.5.7,<2.0,>=1.5.6 in /usr/local/Cellar/jupyterlab/3.2.8/libexec/lib/python3.9/site-packages (from urllib3[socks]~=1.26->selenium>=4.0.0->undetected-chromedriver) (1.7.1)\n",
      "Requirement already satisfied: h11<1,>=0.9.0 in /usr/local/Cellar/jupyterlab/3.2.8/libexec/lib/python3.9/site-packages (from wsproto>=0.14->trio-websocket~=0.9->selenium>=4.0.0->undetected-chromedriver) (0.14.0)\n",
      "\u001b[33mWARNING: You are using pip version 21.3.1; however, version 22.3.1 is available.\n",
      "You should consider upgrading via the '/usr/local/Cellar/jupyterlab/3.2.8/libexec/bin/python3.9 -m pip install --upgrade pip' command.\u001b[0m\n",
      "Note: you may need to restart the kernel to use updated packages.\n"
     ]
    }
   ],
   "source": [
    "pip install undetected-chromedriver"
   ]
  },
  {
   "cell_type": "code",
   "execution_count": 3,
   "id": "b8541005",
   "metadata": {},
   "outputs": [
    {
     "name": "stdout",
     "output_type": "stream",
     "text": [
      "Requirement already satisfied: bs4 in /usr/local/Cellar/jupyterlab/3.2.8/libexec/lib/python3.9/site-packages (0.0.1)\n",
      "Requirement already satisfied: beautifulsoup4 in /usr/local/Cellar/jupyterlab/3.2.8/libexec/lib/python3.9/site-packages (from bs4) (4.11.1)\n",
      "Requirement already satisfied: soupsieve>1.2 in /usr/local/Cellar/jupyterlab/3.2.8/libexec/lib/python3.9/site-packages (from beautifulsoup4->bs4) (2.3.2.post1)\n",
      "\u001b[33mWARNING: You are using pip version 21.3.1; however, version 22.3.1 is available.\n",
      "You should consider upgrading via the '/usr/local/Cellar/jupyterlab/3.2.8/libexec/bin/python3.9 -m pip install --upgrade pip' command.\u001b[0m\n",
      "Note: you may need to restart the kernel to use updated packages.\n"
     ]
    }
   ],
   "source": [
    "pip install bs4"
   ]
  },
  {
   "cell_type": "code",
   "execution_count": 4,
   "id": "ce0b170d",
   "metadata": {},
   "outputs": [
    {
     "name": "stdout",
     "output_type": "stream",
     "text": [
      "Requirement already satisfied: webdriver-manager in /usr/local/Cellar/jupyterlab/3.2.8/libexec/lib/python3.9/site-packages (3.8.4)\n",
      "Requirement already satisfied: python-dotenv in /usr/local/Cellar/jupyterlab/3.2.8/libexec/lib/python3.9/site-packages (from webdriver-manager) (0.21.0)\n",
      "Requirement already satisfied: tqdm in /usr/local/Cellar/jupyterlab/3.2.8/libexec/lib/python3.9/site-packages (from webdriver-manager) (4.63.0)\n",
      "Requirement already satisfied: requests in /usr/local/Cellar/jupyterlab/3.2.8/libexec/lib/python3.9/site-packages (from webdriver-manager) (2.27.1)\n",
      "Requirement already satisfied: urllib3<1.27,>=1.21.1 in /usr/local/Cellar/jupyterlab/3.2.8/libexec/lib/python3.9/site-packages (from requests->webdriver-manager) (1.26.8)\n",
      "Requirement already satisfied: certifi>=2017.4.17 in /usr/local/Cellar/jupyterlab/3.2.8/libexec/lib/python3.9/site-packages (from requests->webdriver-manager) (2021.10.8)\n",
      "Requirement already satisfied: charset_normalizer~=2.0.0 in /usr/local/Cellar/jupyterlab/3.2.8/libexec/lib/python3.9/site-packages (from requests->webdriver-manager) (2.0.10)\n",
      "Requirement already satisfied: idna<4,>=2.5 in /usr/local/Cellar/jupyterlab/3.2.8/libexec/lib/python3.9/site-packages (from requests->webdriver-manager) (3.3)\n",
      "\u001b[33mWARNING: You are using pip version 21.3.1; however, version 22.3.1 is available.\n",
      "You should consider upgrading via the '/usr/local/Cellar/jupyterlab/3.2.8/libexec/bin/python3.9 -m pip install --upgrade pip' command.\u001b[0m\n",
      "Note: you may need to restart the kernel to use updated packages.\n"
     ]
    }
   ],
   "source": [
    "pip install webdriver-manager"
   ]
  },
  {
   "cell_type": "markdown",
   "id": "fe409fa4",
   "metadata": {},
   "source": [
    "#### Imports"
   ]
  },
  {
   "cell_type": "code",
   "execution_count": 1,
   "id": "8883a8f1",
   "metadata": {},
   "outputs": [],
   "source": [
    "import time\n",
    "from selenium.webdriver.common.keys import Keys\n",
    "from selenium.webdriver.common.by import By\n",
    "from selenium.webdriver.support.ui import Select\n",
    "\n",
    "\n",
    "from selenium import webdriver\n",
    "from webdriver_manager.chrome import ChromeDriverManager\n",
    "from selenium.webdriver.common.action_chains import ActionChains\n",
    "\n",
    "from selenium.webdriver.support.ui import WebDriverWait\n",
    "from selenium.webdriver.support import expected_conditions as EC\n",
    "\n",
    "from bs4 import BeautifulSoup\n",
    "\n",
    "import pandas as pd\n",
    "import re\n",
    "import statistics\n",
    "\n",
    "import undetected_chromedriver as uc\n",
    "\n"
   ]
  },
  {
   "cell_type": "code",
   "execution_count": 2,
   "id": "cf812e4e",
   "metadata": {},
   "outputs": [],
   "source": [
    "pd.set_option('display.max_columns', None)\n"
   ]
  },
  {
   "cell_type": "markdown",
   "id": "333215f8",
   "metadata": {},
   "source": [
    "#### Create driver and open webpage"
   ]
  },
  {
   "cell_type": "code",
   "execution_count": 3,
   "id": "94e2fa99",
   "metadata": {},
   "outputs": [],
   "source": [
    "driver = uc.Chrome()\n",
    "\n",
    "driver.implicitly_wait(5)\n",
    "driver.get('https://www.fotocasa.es/es/')\n",
    "driver.maximize_window()\n"
   ]
  },
  {
   "cell_type": "markdown",
   "id": "4158e964",
   "metadata": {},
   "source": [
    "#### Accept cookies and find apartments by district"
   ]
  },
  {
   "cell_type": "code",
   "execution_count": 4,
   "id": "82d296ba",
   "metadata": {},
   "outputs": [],
   "source": [
    "WebDriverWait(driver, 5).until(EC.element_to_be_clickable((By.XPATH, \"//button[contains(., 'Aceptar y cerrar')]\"))).click()\n",
    "time.sleep(1)\n",
    "WebDriverWait(driver, 5).until(EC.element_to_be_clickable((By.CLASS_NAME,'sui-AtomInput-input sui-AtomInput-input-size-m'.replace(' ', '.')))).click()\n",
    "time.sleep(1)\n",
    "\n",
    "\n",
    "barrios=[\"san esteban distrito leon \"]\n",
    "\n",
    "time.sleep(1)\n",
    "buscar= driver.find_element(by=By.CLASS_NAME,value=\"sui-AtomInput-input sui-AtomInput-input-size-m\".replace(' ', '.'))\n",
    "buscar.send_keys(barrios[0])\n",
    "time.sleep(3)\n",
    "\n",
    "WebDriverWait(driver, 5).until(EC.element_to_be_clickable((By.XPATH, \"//button[contains(., 'Buscar')]\"))).click()\n",
    "\n"
   ]
  },
  {
   "cell_type": "markdown",
   "id": "b8e495aa",
   "metadata": {},
   "source": [
    "#### Scroll through the document (making sure it's the end)"
   ]
  },
  {
   "cell_type": "code",
   "execution_count": 5,
   "id": "560cd531",
   "metadata": {},
   "outputs": [],
   "source": [
    "time.sleep(3)\n",
    "\n",
    "elem = driver.find_element(By.TAG_NAME,value=\"body\")\n",
    "\n",
    "no_of_pagedowns = 30\n",
    "\n",
    "while no_of_pagedowns:\n",
    "    elem.send_keys(Keys.PAGE_DOWN)\n",
    "    time.sleep(0.5)\n",
    "    no_of_pagedowns-=1"
   ]
  },
  {
   "cell_type": "markdown",
   "id": "c3140c83",
   "metadata": {},
   "source": [
    "#### Get HTML"
   ]
  },
  {
   "cell_type": "code",
   "execution_count": 47,
   "id": "14293d2d",
   "metadata": {},
   "outputs": [],
   "source": [
    "html_txt=driver.page_source\n",
    "soup=BeautifulSoup(html_txt)\n",
    "viviendas= soup.find('section',class_='re-SearchResult')"
   ]
  },
  {
   "cell_type": "code",
   "execution_count": 48,
   "id": "e1950917",
   "metadata": {},
   "outputs": [],
   "source": [
    "lista_precios=[]\n",
    "lista_titulos=[]\n",
    "lista_habitaciones=[]\n",
    "lista_baños=[]\n",
    "lista_superficie=[]\n",
    "lista_planta=[]\n",
    "lista_ascensor=[]\n",
    "lista_links=[]\n",
    "lista_publicacion=[]\n",
    "lista_fechas=[]\n"
   ]
  },
  {
   "cell_type": "markdown",
   "id": "48241be3",
   "metadata": {},
   "source": [
    "#### Some operation to avoid ads"
   ]
  },
  {
   "cell_type": "code",
   "execution_count": 49,
   "id": "140247f9",
   "metadata": {},
   "outputs": [
    {
     "name": "stdout",
     "output_type": "stream",
     "text": [
      "this is mean_list: 6374.8848484848495\n"
     ]
    }
   ],
   "source": [
    "vivienda_str_list=[]\n",
    "\n",
    "for vivienda in viviendas:     \n",
    "    vivienda_str_len=len(str(vivienda))\n",
    "    #print(vivienda_str_len)\n",
    "    vivienda_str_list.append(vivienda_str_len)\n",
    "    \n",
    "mean_len=statistics.mean(vivienda_str_list)*0.80\n",
    "print('this is mean_list:',mean_len)"
   ]
  },
  {
   "cell_type": "code",
   "execution_count": null,
   "id": "afc86a21",
   "metadata": {},
   "outputs": [],
   "source": []
  },
  {
   "cell_type": "markdown",
   "id": "85ce6c6f",
   "metadata": {},
   "source": [
    "#### Get precios"
   ]
  },
  {
   "cell_type": "code",
   "execution_count": 50,
   "id": "2b1191dd",
   "metadata": {},
   "outputs": [
    {
     "name": "stdout",
     "output_type": "stream",
     "text": [
      "['97.000 €', '56.000 €', '80.000 €', '65.000 €', '95.000 €', '45.000 €', '200.000 €', '99.000 €', '89.000 €', '110.000 €', '125.000 €', '115.000 €', '130.000 €', '139.000 €', '75.000 €', '125.000 €', '145.000 €', '145.000 €', '120.000 €', '266.000 €', '58.000 €', '95.900 €', '135.000 €', '120.000 €', '199.900 €', '170.000 €', '150.000 €', '59.000 €', '215.000 €', '53.000 €']\n",
      "30\n"
     ]
    }
   ],
   "source": [
    "for vivienda in viviendas:     \n",
    "    if len(str(vivienda))<mean_len:\n",
    "        pass\n",
    "    \n",
    "    else:\n",
    "        precio=vivienda.find('span',class_='re-CardPrice').getText()\n",
    "        lista_precios.append(precio)\n",
    "        \n",
    "\n",
    " \n",
    "print(lista_precios)\n",
    "print(len(lista_precios))"
   ]
  },
  {
   "cell_type": "markdown",
   "id": "5b52c698",
   "metadata": {},
   "source": [
    "#### Get Título"
   ]
  },
  {
   "cell_type": "code",
   "execution_count": 51,
   "id": "c30aa51e",
   "metadata": {},
   "outputs": [
    {
     "name": "stdout",
     "output_type": "stream",
     "text": [
      "['Piso con terraza en Peñalba, San Esteban ', 'Piso con calefacción en San Esteban ', 'Apartamento con terraza en San Esteban ', 'Casa o chalet con 2 baños en Dama de Arintero, San Esteban ', 'Apartamento con terraza en Calle Peña Labra, San Esteban ', 'Piso con 1 baño en Calle León XIII, San Esteban ', 'Piso con terraza en Calle San Juan de Prado, San Esteban ', 'Piso con terraza en San Esteban ', 'Apartamento con ascensor en San Esteban ', 'Piso con ascensor en Mariano Andrés, San Esteban ', 'Piso con terraza en Calle la Cepeda, San Esteban ', 'Piso con balcón en Padre Isla, San Esteban ', 'Piso con ascensor en Calle Cornion, San Esteban ', 'Piso con ascensor en San Esteban ', 'Piso con terraza en Peña Castro, San Esteban ', 'Piso con terraza en San Esteban ', 'Dúplex con 2 baños en Gumersindo Azcarate, San Esteban ', 'Dúplex con 2 baños en Gumersindo Azcarate, San Esteban ', 'Dúplex con terraza en San Esteban ', 'Piso con terraza en San Esteban ', 'Apartamento con ascensor en San Esteban ', 'Piso en Calle Pérez Crespo, San Esteban ', 'Piso con terraza en San Esteban ', 'Dúplex con terraza en Avenida de Mariano Andrés, San Esteban ', 'Piso con terraza en Castro Sopeña, San Esteban ', 'Piso con terraza en San Esteban ', 'Piso con terraza en San Esteban ', 'Piso con 1 baño en Maestro Uriarte, San Esteban ', 'Piso con 2 baños en San Esteban ', 'Piso con 1 baño en San Esteban ']\n",
      "30\n"
     ]
    }
   ],
   "source": [
    "for vivienda in viviendas:     \n",
    "    if len(str(vivienda))<mean_len:\n",
    "        pass\n",
    "    else: \n",
    "        titulos=vivienda.find('span',class_='re-CardTitle').getText()\n",
    "        lista_titulos.append(titulos)\n",
    "        \n",
    "\n",
    "print(lista_titulos)\n",
    "print(len(lista_titulos))"
   ]
  },
  {
   "cell_type": "markdown",
   "id": "e86fddf2",
   "metadata": {},
   "source": [
    "#### Get Habitaciones"
   ]
  },
  {
   "cell_type": "code",
   "execution_count": 52,
   "id": "86f185ea",
   "metadata": {},
   "outputs": [
    {
     "name": "stdout",
     "output_type": "stream",
     "text": [
      "['3', '3', '2', '4', '2', '2', '4', '3', '2', '3', '3', '3', '3', '3', '3', '3', '3', '3', '3', '2', '2', '3', '4', '3', '5', '5', '3', '2', '4', '1']\n",
      "30\n"
     ]
    }
   ],
   "source": [
    "for vivienda in viviendas:     \n",
    "    vivienda_str=str(vivienda)\n",
    "    hab_pos=re.search(r'habs.',vivienda_str)\n",
    "    hab_pos_indi=re.search(r'hab.',vivienda_str)\n",
    "    \n",
    "    if len(str(vivienda))<mean_len:\n",
    "        pass\n",
    "    \n",
    "    elif hab_pos:\n",
    "        hab_pos_text=hab_pos.start()\n",
    "        hab=vivienda_str[hab_pos_text-2:hab_pos_text-1]\n",
    "        lista_habitaciones.append(hab)\n",
    "    else:\n",
    "        hab_pos_text=hab_pos_indi.start()\n",
    "        hab=vivienda_str[hab_pos_text-2:hab_pos_text-1]\n",
    "        lista_habitaciones.append(hab)       \n",
    "\n",
    " \n",
    "print(lista_habitaciones)\n",
    "print(len(lista_habitaciones))\n"
   ]
  },
  {
   "cell_type": "markdown",
   "id": "868d14ea",
   "metadata": {},
   "source": [
    "#### Get Baños"
   ]
  },
  {
   "cell_type": "code",
   "execution_count": 53,
   "id": "48788ab3",
   "metadata": {},
   "outputs": [
    {
     "name": "stdout",
     "output_type": "stream",
     "text": [
      "['1', '1', '1', '2', '1', '1', '2', '2', '1', '1', '1', '1', '2', '2', '1', '2', '2', '2', '2', '2', '2', '1', '2', '2', '3', '2', '2', '1', '2', '1']\n",
      "30\n"
     ]
    }
   ],
   "source": [
    "for vivienda in viviendas:     \n",
    "    vivienda_str=str(vivienda)\n",
    "     \n",
    "    \n",
    "    if len(str(vivienda))<mean_len:\n",
    "        pass\n",
    "    \n",
    "    else:\n",
    "        \n",
    "        baño_pos=re.search(r'(baño|Baño)',vivienda_str)\n",
    "        baño_pos_text=baño_pos.start()\n",
    "        b=vivienda_str[baño_pos_text-2:baño_pos_text-1]\n",
    "        lista_baños.append(b)\n",
    "        \n",
    "\n",
    " \n",
    "print(lista_baños)\n",
    "print(len(lista_baños))\n"
   ]
  },
  {
   "cell_type": "markdown",
   "id": "5eb98552",
   "metadata": {},
   "source": [
    "#### Get Superficie"
   ]
  },
  {
   "cell_type": "code",
   "execution_count": 54,
   "id": "4412d166",
   "metadata": {},
   "outputs": [
    {
     "name": "stdout",
     "output_type": "stream",
     "text": [
      "['102', '83', '95', '140', '70', '82', '110', '110', '70', '90', '85', '85', '104', '123', '78', '109', '102', '102', '115', '129', '60', '85', '100', '115', '213', '142', '136', '60', '138', '52']\n",
      "30\n"
     ]
    }
   ],
   "source": [
    "for vivienda in viviendas:     \n",
    "    vivienda_str=str(vivienda)\n",
    "     \n",
    "    \n",
    "    if len(str(vivienda))<mean_len:\n",
    "        pass\n",
    "    \n",
    "    else:\n",
    "        \n",
    "        superficie_pos=re.search(r'([0-9] [m])',vivienda_str)\n",
    "        superficie_pos_text=superficie_pos.start()\n",
    "        s=vivienda_str[superficie_pos_text-2:superficie_pos_text+3]\n",
    "\n",
    "        if 'm' not in s:\n",
    "            lista_superficie.append(None)\n",
    "        else:\n",
    "            lista_superficie.append(re.findall(r'\\d+',s)[0])\n",
    "        \n",
    "\n",
    " \n",
    "print(lista_superficie)\n",
    "print(len(lista_superficie))"
   ]
  },
  {
   "cell_type": "code",
   "execution_count": null,
   "id": "2e8d0c55",
   "metadata": {},
   "outputs": [],
   "source": []
  },
  {
   "cell_type": "markdown",
   "id": "42e66851",
   "metadata": {},
   "source": [
    "#### Get Ascensor"
   ]
  },
  {
   "cell_type": "code",
   "execution_count": 55,
   "id": "0245fb78",
   "metadata": {},
   "outputs": [
    {
     "name": "stdout",
     "output_type": "stream",
     "text": [
      "['SI', 'NO', 'SI', 'NO', 'SI', 'NO', 'SI', 'NO', 'SI', 'SI', 'SI', 'SI', 'SI', 'SI', 'NO', 'SI', 'NO', 'NO', 'SI', 'SI', 'SI', 'SI', 'SI', 'SI', 'NO', 'SI', 'SI', 'NO', 'NO', 'NO']\n",
      "30\n"
     ]
    }
   ],
   "source": [
    "for vivienda in viviendas:     \n",
    "    vivienda_str=str(vivienda)\n",
    "    keyword='ascensor'\n",
    "    \n",
    "    if len(str(vivienda))<mean_len:\n",
    "        pass\n",
    "    \n",
    "    elif keyword in vivienda_str:\n",
    "        lista_ascensor.append('SI')\n",
    "        \n",
    "    else:\n",
    "        lista_ascensor.append('NO')\n",
    "        \n",
    "\n",
    " \n",
    "print(lista_ascensor)\n",
    "print(len(lista_ascensor))"
   ]
  },
  {
   "cell_type": "markdown",
   "id": "270bc7d5",
   "metadata": {},
   "source": [
    "#### Get Planta"
   ]
  },
  {
   "cell_type": "code",
   "execution_count": 56,
   "id": "4ac9e681",
   "metadata": {},
   "outputs": [
    {
     "name": "stdout",
     "output_type": "stream",
     "text": [
      "['4', '4', '4', 0, '3', '2', '7', '1', '4', '4', '4', '3', '3', '2', '4', '2', '1', '1', 0, 0, '2', '5', '4', '3', '\\r', '1', '7', None, 0, '2']\n",
      "30\n"
     ]
    }
   ],
   "source": [
    "for vivienda in viviendas:     \n",
    "    vivienda_str=str(vivienda)\n",
    "    planta='Planta'\n",
    "    planta_baja='planta'\n",
    "    \n",
    "    if len(str(vivienda))<mean_len:\n",
    "        pass\n",
    "    \n",
    "    elif planta in vivienda_str:\n",
    "        planta_pos=re.search(r'(Planta)',vivienda_str)\n",
    "        planta_pos_text=planta_pos.start()\n",
    "        p=vivienda_str[planta_pos_text-3:planta_pos_text-2]\n",
    "        lista_planta.append(p)        \n",
    "    \n",
    "    elif planta_baja in vivienda_str:\n",
    "        planta_pos_baja=re.search(r'(planta)',vivienda_str)\n",
    "        planta_pos_text_baja=planta_pos_baja.start()\n",
    "        lista_planta.append(0)        \n",
    "    \n",
    "    else:\n",
    "        lista_planta.append(None)\n",
    "        \n",
    "\n",
    " \n",
    "print(lista_planta)\n",
    "print(len(lista_planta))\n",
    "    \n",
    "    \n",
    "    "
   ]
  },
  {
   "cell_type": "markdown",
   "id": "25530986",
   "metadata": {},
   "source": [
    "#### Get Link"
   ]
  },
  {
   "cell_type": "code",
   "execution_count": 57,
   "id": "584d15bd",
   "metadata": {},
   "outputs": [
    {
     "name": "stdout",
     "output_type": "stream",
     "text": [
      "['https://www.fotocasa.es//es/comprar/vivienda/leon-capital/calefaccion-parking-terraza-ascensor/163198397/d?from=list', 'https://www.fotocasa.es//es/comprar/vivienda/leon-capital/calefaccion/165755393/d?from=list', 'https://www.fotocasa.es//es/comprar/vivienda/leon-capital/calefaccion-parking-terraza-ascensor/176536123/d?from=list', 'https://www.fotocasa.es//es/comprar/vivienda/leon-capital/jardin-no-amueblado/155990685/d?from=list', 'https://www.fotocasa.es//es/comprar/vivienda/leon-capital/calefaccion-terraza-trastero-ascensor-parking-internet/165606125/d?from=list', 'https://www.fotocasa.es//es/comprar/vivienda/leon-capital/san-esteban/176308126/d?from=list', 'https://www.fotocasa.es//es/comprar/vivienda/leon-capital/calefaccion-terraza-ascensor-amueblado-parking-internet/164335226/d?from=list', 'https://www.fotocasa.es//es/comprar/vivienda/leon-capital/calefaccion-parking-terraza-trastero/161445633/d?from=list', 'https://www.fotocasa.es//es/comprar/vivienda/leon-capital/calefaccion-ascensor-patio/161445707/d?from=list', 'https://www.fotocasa.es//es/comprar/vivienda/leon-capital/calefaccion-ascensor-parking/176118432/d?from=list', 'https://www.fotocasa.es//es/comprar/vivienda/leon-capital/calefaccion-terraza-ascensor-amueblado-television/165238743/d?from=list', 'https://www.fotocasa.es//es/comprar/vivienda/leon-capital/calefaccion-trastero-ascensor-amueblado/163957744/d?from=list', 'https://www.fotocasa.es//es/comprar/vivienda/leon-capital/calefaccion-trastero-ascensor-parking/158608740/d?from=list', 'https://www.fotocasa.es//es/comprar/vivienda/leon-capital/calefaccion-parking-trastero-ascensor-amueblado-parking/165479791/d?from=list', 'https://www.fotocasa.es//es/comprar/vivienda/leon-capital/calefaccion-terraza-trastero-amueblado/176560322/d?from=list', 'https://www.fotocasa.es//es/comprar/vivienda/leon-capital/calefaccion-terraza-trastero-ascensor-no-amueblado/165765731/d?from=list', 'https://www.fotocasa.es//es/comprar/vivienda/leon-capital/calefaccion-parking-trastero/164707647/d?from=list', 'https://www.fotocasa.es//es/comprar/vivienda/leon-capital/calefaccion-parking-trastero/165565406/d?from=list', 'https://www.fotocasa.es//es/comprar/vivienda/leon-capital/calefaccion-terraza-trastero-ascensor-amueblado/164878137/d?from=list', 'https://www.fotocasa.es//es/comprar/vivienda/leon-capital/calefaccion-parking-terraza-trastero-ascensor/176348270/d?from=list', 'https://www.fotocasa.es//es/comprar/vivienda/leon-capital/ascensor/163172452/d?from=list', 'https://www.fotocasa.es//es/comprar/vivienda/leon-capital/calefaccion-terraza-trastero-ascensor-amueblado-se-aceptan-mascotas/165076548/d?from=list', 'https://www.fotocasa.es//es/comprar/vivienda/leon-capital/calefaccion-terraza-ascensor-parking/134143085/d?from=list', 'https://www.fotocasa.es//es/comprar/vivienda/leon-capital/calefaccion-terraza-trastero-ascensor-internet/176578255/d?from=list', 'https://www.fotocasa.es//es/comprar/vivienda/leon-capital/calefaccion-parking-terraza-patio/159810119/d?from=list', 'https://www.fotocasa.es//es/comprar/vivienda/leon-capital/calefaccion-terraza-ascensor/176360308/d?from=list', 'https://www.fotocasa.es//es/comprar/vivienda/leon-capital/calefaccion-parking-terraza-trastero-ascensor/176461073/d?from=list', 'https://www.fotocasa.es//es/comprar/vivienda/leon-capital/no-amueblado/176129711/d?from=list', 'https://www.fotocasa.es//es/comprar/vivienda/leon-capital/calefaccion-parking-trastero/165221952/d?from=list', 'https://www.fotocasa.es//es/comprar/vivienda/leon-capital/calefaccion/161715819/d?from=list']\n",
      "30\n"
     ]
    }
   ],
   "source": [
    "for vivienda in viviendas:     \n",
    "    if len(str(vivienda))<mean_len:\n",
    "        pass\n",
    "    else:\n",
    "        links = vivienda.find('a',href=True)\n",
    "        href = links['href']\n",
    "        fotocasa = 'https://www.fotocasa.es/'\n",
    "        if '/es/comprar/vivienda/' in href:\n",
    "            lista_links.append(fotocasa+href)\n",
    "\n",
    "    \n",
    "print(lista_links)\n",
    "print(len(lista_links))"
   ]
  },
  {
   "cell_type": "markdown",
   "id": "7fad1c62",
   "metadata": {},
   "source": [
    "#### Get Fecha Publicación"
   ]
  },
  {
   "cell_type": "code",
   "execution_count": 58,
   "id": "1eeff4b0",
   "metadata": {},
   "outputs": [
    {
     "name": "stdout",
     "output_type": "stream",
     "text": [
      "[31, 63, 8, 29, 9, 29, 45, 110, 53, 52, 106, 17, 145, 42, 6, 62, 1, 6, 14, 23, 105, 9, 185, 0, 0, 0, 0, 0, 0, 0]\n",
      "30\n"
     ]
    }
   ],
   "source": [
    "for vivienda in viviendas:     \n",
    "    if len(str(vivienda))<mean_len:\n",
    "        pass\n",
    "    \n",
    "    else:\n",
    "        fecha=vivienda.find('span',class_='re-CardTimeAgo').getText()\n",
    "        if re.search(r'\\d+', fecha):\n",
    "            fecha_int=int(re.search(r'\\d+', fecha).group())\n",
    "        else:\n",
    "            fecha_int=0\n",
    "        lista_fechas.append(fecha_int)\n",
    " \n",
    "print(lista_fechas)\n",
    "print(len(lista_fechas))"
   ]
  },
  {
   "cell_type": "markdown",
   "id": "16135ea2",
   "metadata": {},
   "source": [
    "## If is not the first time: scroll down"
   ]
  },
  {
   "cell_type": "markdown",
   "id": "28d2ab32",
   "metadata": {},
   "source": [
    "#### Create DataFrame"
   ]
  },
  {
   "cell_type": "code",
   "execution_count": 18,
   "id": "a022e831",
   "metadata": {},
   "outputs": [],
   "source": [
    "df=pd.DataFrame(list(zip(lista_titulos,lista_precios,lista_habitaciones,lista_planta,lista_superficie,lista_baños,lista_ascensor,lista_fechas ,lista_links))).drop_duplicates()\n"
   ]
  },
  {
   "cell_type": "code",
   "execution_count": 19,
   "id": "c0d8ab44",
   "metadata": {},
   "outputs": [],
   "source": [
    "df=df.rename(columns={0:\"Título\",1:\"Precio\",2:\"Habitaciones\",3:\"Planta\",4:\"Superficie\",5:\"Baños\",6:\"Ascensor\",7:\"Fecha Publicación\",8:\"Links\"})\n"
   ]
  },
  {
   "cell_type": "code",
   "execution_count": 20,
   "id": "8220804f",
   "metadata": {},
   "outputs": [],
   "source": [
    "barrios=['San Esteban','Palomera']\n",
    "ciudades=['León']\n",
    "df['Barrio']=barrios[0]\n",
    "df['Ciudad']=ciudades[0]"
   ]
  },
  {
   "cell_type": "code",
   "execution_count": 21,
   "id": "267c7d32",
   "metadata": {},
   "outputs": [],
   "source": []
  },
  {
   "cell_type": "markdown",
   "id": "72da1451",
   "metadata": {},
   "source": [
    "#### Next page"
   ]
  },
  {
   "cell_type": "code",
   "execution_count": 45,
   "id": "6548dbdb",
   "metadata": {},
   "outputs": [],
   "source": [
    "time.sleep(5)\n",
    "\n",
    "WebDriverWait(driver, 5).until(EC.element_to_be_clickable((By.CLASS_NAME,'sui-AtomButton sui-AtomButton--primary sui-AtomButton--outline sui-AtomButton--center sui-AtomButton--small sui-AtomButton--link sui-AtomButton--empty sui-AtomButton--rounded'.replace(' ', '.')))).click()\n"
   ]
  },
  {
   "cell_type": "code",
   "execution_count": 24,
   "id": "4f9e98d2",
   "metadata": {},
   "outputs": [
    {
     "data": {
      "text/plain": [
       "'elem_up = driver.find_element(By.TAG_NAME,value=\"body\")\\n\\nno_of_pagedowns = 30\\n\\nwhile no_of_pagedowns:\\n    elem_up.send_keys(Keys.PAGE_UP+Keys.COMMAND)\\n    time.sleep(0.25)\\n    no_of_pagedowns-=1'"
      ]
     },
     "execution_count": 24,
     "metadata": {},
     "output_type": "execute_result"
    }
   ],
   "source": [
    "'''elem_up = driver.find_element(By.TAG_NAME,value=\"body\")\n",
    "\n",
    "no_of_pagedowns = 30\n",
    "\n",
    "while no_of_pagedowns:\n",
    "    elem_up.send_keys(Keys.PAGE_UP+Keys.COMMAND)\n",
    "    time.sleep(0.25)\n",
    "    no_of_pagedowns-=1'''"
   ]
  },
  {
   "cell_type": "markdown",
   "id": "8b9714f3",
   "metadata": {},
   "source": [
    "#### Scroll down again"
   ]
  },
  {
   "cell_type": "code",
   "execution_count": 46,
   "id": "c7202334",
   "metadata": {},
   "outputs": [],
   "source": [
    "time.sleep(3)\n",
    "\n",
    "elem = driver.find_element(By.TAG_NAME,value=\"body\")\n",
    "\n",
    "no_of_pagedowns = 30\n",
    "\n",
    "while no_of_pagedowns:\n",
    "    elem.send_keys(Keys.PAGE_DOWN)\n",
    "    time.sleep(0.5)\n",
    "    no_of_pagedowns-=1"
   ]
  },
  {
   "cell_type": "markdown",
   "id": "471c063d",
   "metadata": {},
   "source": [
    "#### Go back to fill the values of the lists"
   ]
  },
  {
   "cell_type": "markdown",
   "id": "d4b9d780",
   "metadata": {},
   "source": [
    "#### Create NEW DataFrame to then merge to the new one"
   ]
  },
  {
   "cell_type": "code",
   "execution_count": 59,
   "id": "1d2f6cfc",
   "metadata": {},
   "outputs": [],
   "source": [
    "n_df=pd.DataFrame(list(zip(lista_titulos,lista_precios,lista_habitaciones,lista_planta,lista_superficie,lista_baños,lista_ascensor,lista_fechas ,lista_links))).drop_duplicates()\n",
    "\n",
    "n_df=df.rename(columns={0:\"Título\",1:\"Precio\",2:\"Habitaciones\",3:\"Planta\",4:\"Superficie\",5:\"Baños\",6:\"Ascensor\",7:\"Fecha Publicación\",8:\"Links\"})\n",
    "\n",
    "n_df['Barrio']=barrios[0]\n",
    "n_df['Ciudad']=ciudades[0]"
   ]
  },
  {
   "cell_type": "code",
   "execution_count": 60,
   "id": "0a7112c1",
   "metadata": {},
   "outputs": [],
   "source": [
    "df = pd.concat([df,n_df])\n"
   ]
  },
  {
   "cell_type": "code",
   "execution_count": 61,
   "id": "425a2425",
   "metadata": {},
   "outputs": [
    {
     "data": {
      "text/html": [
       "<div>\n",
       "<style scoped>\n",
       "    .dataframe tbody tr th:only-of-type {\n",
       "        vertical-align: middle;\n",
       "    }\n",
       "\n",
       "    .dataframe tbody tr th {\n",
       "        vertical-align: top;\n",
       "    }\n",
       "\n",
       "    .dataframe thead th {\n",
       "        text-align: right;\n",
       "    }\n",
       "</style>\n",
       "<table border=\"1\" class=\"dataframe\">\n",
       "  <thead>\n",
       "    <tr style=\"text-align: right;\">\n",
       "      <th></th>\n",
       "      <th>Título</th>\n",
       "      <th>Precio</th>\n",
       "      <th>Habitaciones</th>\n",
       "      <th>Planta</th>\n",
       "      <th>Superficie</th>\n",
       "      <th>Baños</th>\n",
       "      <th>Ascensor</th>\n",
       "      <th>Fecha Publicación</th>\n",
       "      <th>Links</th>\n",
       "      <th>Barrio</th>\n",
       "      <th>Ciudad</th>\n",
       "    </tr>\n",
       "  </thead>\n",
       "  <tbody>\n",
       "    <tr>\n",
       "      <th>0</th>\n",
       "      <td>Piso con terraza en Peñalba, San Esteban</td>\n",
       "      <td>97.000 €</td>\n",
       "      <td>3</td>\n",
       "      <td>4</td>\n",
       "      <td>102</td>\n",
       "      <td>1</td>\n",
       "      <td>SI</td>\n",
       "      <td>31</td>\n",
       "      <td>https://www.fotocasa.es//es/comprar/vivienda/l...</td>\n",
       "      <td>San Esteban</td>\n",
       "      <td>León</td>\n",
       "    </tr>\n",
       "    <tr>\n",
       "      <th>1</th>\n",
       "      <td>Piso con calefacción en San Esteban</td>\n",
       "      <td>56.000 €</td>\n",
       "      <td>3</td>\n",
       "      <td>4</td>\n",
       "      <td>83</td>\n",
       "      <td>1</td>\n",
       "      <td>NO</td>\n",
       "      <td>63</td>\n",
       "      <td>https://www.fotocasa.es//es/comprar/vivienda/l...</td>\n",
       "      <td>San Esteban</td>\n",
       "      <td>León</td>\n",
       "    </tr>\n",
       "    <tr>\n",
       "      <th>2</th>\n",
       "      <td>Apartamento con terraza en San Esteban</td>\n",
       "      <td>80.000 €</td>\n",
       "      <td>2</td>\n",
       "      <td>4</td>\n",
       "      <td>95</td>\n",
       "      <td>1</td>\n",
       "      <td>SI</td>\n",
       "      <td>8</td>\n",
       "      <td>https://www.fotocasa.es//es/comprar/vivienda/l...</td>\n",
       "      <td>San Esteban</td>\n",
       "      <td>León</td>\n",
       "    </tr>\n",
       "    <tr>\n",
       "      <th>3</th>\n",
       "      <td>Casa o chalet con 2 baños en Dama de Arintero,...</td>\n",
       "      <td>65.000 €</td>\n",
       "      <td>4</td>\n",
       "      <td>0</td>\n",
       "      <td>140</td>\n",
       "      <td>2</td>\n",
       "      <td>NO</td>\n",
       "      <td>29</td>\n",
       "      <td>https://www.fotocasa.es//es/comprar/vivienda/l...</td>\n",
       "      <td>San Esteban</td>\n",
       "      <td>León</td>\n",
       "    </tr>\n",
       "    <tr>\n",
       "      <th>4</th>\n",
       "      <td>Apartamento con terraza en Calle Peña Labra, S...</td>\n",
       "      <td>95.000 €</td>\n",
       "      <td>2</td>\n",
       "      <td>3</td>\n",
       "      <td>70</td>\n",
       "      <td>1</td>\n",
       "      <td>SI</td>\n",
       "      <td>9</td>\n",
       "      <td>https://www.fotocasa.es//es/comprar/vivienda/l...</td>\n",
       "      <td>San Esteban</td>\n",
       "      <td>León</td>\n",
       "    </tr>\n",
       "    <tr>\n",
       "      <th>5</th>\n",
       "      <td>Piso con 1 baño en Calle León XIII, San Esteban</td>\n",
       "      <td>45.000 €</td>\n",
       "      <td>2</td>\n",
       "      <td>2</td>\n",
       "      <td>82</td>\n",
       "      <td>1</td>\n",
       "      <td>NO</td>\n",
       "      <td>29</td>\n",
       "      <td>https://www.fotocasa.es//es/comprar/vivienda/l...</td>\n",
       "      <td>San Esteban</td>\n",
       "      <td>León</td>\n",
       "    </tr>\n",
       "    <tr>\n",
       "      <th>6</th>\n",
       "      <td>Piso con terraza en Calle San Juan de Prado, S...</td>\n",
       "      <td>200.000 €</td>\n",
       "      <td>4</td>\n",
       "      <td>7</td>\n",
       "      <td>110</td>\n",
       "      <td>2</td>\n",
       "      <td>SI</td>\n",
       "      <td>45</td>\n",
       "      <td>https://www.fotocasa.es//es/comprar/vivienda/l...</td>\n",
       "      <td>San Esteban</td>\n",
       "      <td>León</td>\n",
       "    </tr>\n",
       "    <tr>\n",
       "      <th>7</th>\n",
       "      <td>Piso con terraza en San Esteban</td>\n",
       "      <td>99.000 €</td>\n",
       "      <td>3</td>\n",
       "      <td>1</td>\n",
       "      <td>110</td>\n",
       "      <td>2</td>\n",
       "      <td>NO</td>\n",
       "      <td>110</td>\n",
       "      <td>https://www.fotocasa.es//es/comprar/vivienda/l...</td>\n",
       "      <td>San Esteban</td>\n",
       "      <td>León</td>\n",
       "    </tr>\n",
       "    <tr>\n",
       "      <th>8</th>\n",
       "      <td>Apartamento con ascensor en San Esteban</td>\n",
       "      <td>89.000 €</td>\n",
       "      <td>2</td>\n",
       "      <td>4</td>\n",
       "      <td>70</td>\n",
       "      <td>1</td>\n",
       "      <td>SI</td>\n",
       "      <td>53</td>\n",
       "      <td>https://www.fotocasa.es//es/comprar/vivienda/l...</td>\n",
       "      <td>San Esteban</td>\n",
       "      <td>León</td>\n",
       "    </tr>\n",
       "    <tr>\n",
       "      <th>9</th>\n",
       "      <td>Piso con ascensor en Mariano Andrés, San Esteban</td>\n",
       "      <td>110.000 €</td>\n",
       "      <td>3</td>\n",
       "      <td>4</td>\n",
       "      <td>90</td>\n",
       "      <td>1</td>\n",
       "      <td>SI</td>\n",
       "      <td>52</td>\n",
       "      <td>https://www.fotocasa.es//es/comprar/vivienda/l...</td>\n",
       "      <td>San Esteban</td>\n",
       "      <td>León</td>\n",
       "    </tr>\n",
       "    <tr>\n",
       "      <th>10</th>\n",
       "      <td>Piso con terraza en Calle la Cepeda, San Esteban</td>\n",
       "      <td>125.000 €</td>\n",
       "      <td>3</td>\n",
       "      <td>4</td>\n",
       "      <td>85</td>\n",
       "      <td>1</td>\n",
       "      <td>SI</td>\n",
       "      <td>106</td>\n",
       "      <td>https://www.fotocasa.es//es/comprar/vivienda/l...</td>\n",
       "      <td>San Esteban</td>\n",
       "      <td>León</td>\n",
       "    </tr>\n",
       "    <tr>\n",
       "      <th>11</th>\n",
       "      <td>Piso con balcón en Padre Isla, San Esteban</td>\n",
       "      <td>115.000 €</td>\n",
       "      <td>3</td>\n",
       "      <td>3</td>\n",
       "      <td>85</td>\n",
       "      <td>1</td>\n",
       "      <td>SI</td>\n",
       "      <td>17</td>\n",
       "      <td>https://www.fotocasa.es//es/comprar/vivienda/l...</td>\n",
       "      <td>San Esteban</td>\n",
       "      <td>León</td>\n",
       "    </tr>\n",
       "    <tr>\n",
       "      <th>12</th>\n",
       "      <td>Piso con ascensor en Calle Cornion, San Esteban</td>\n",
       "      <td>130.000 €</td>\n",
       "      <td>3</td>\n",
       "      <td>3</td>\n",
       "      <td>104</td>\n",
       "      <td>2</td>\n",
       "      <td>SI</td>\n",
       "      <td>145</td>\n",
       "      <td>https://www.fotocasa.es//es/comprar/vivienda/l...</td>\n",
       "      <td>San Esteban</td>\n",
       "      <td>León</td>\n",
       "    </tr>\n",
       "    <tr>\n",
       "      <th>13</th>\n",
       "      <td>Piso con ascensor en San Esteban</td>\n",
       "      <td>139.000 €</td>\n",
       "      <td>3</td>\n",
       "      <td>2</td>\n",
       "      <td>123</td>\n",
       "      <td>2</td>\n",
       "      <td>SI</td>\n",
       "      <td>42</td>\n",
       "      <td>https://www.fotocasa.es//es/comprar/vivienda/l...</td>\n",
       "      <td>San Esteban</td>\n",
       "      <td>León</td>\n",
       "    </tr>\n",
       "    <tr>\n",
       "      <th>14</th>\n",
       "      <td>Piso con terraza en Peña Castro, San Esteban</td>\n",
       "      <td>75.000 €</td>\n",
       "      <td>3</td>\n",
       "      <td>4</td>\n",
       "      <td>78</td>\n",
       "      <td>1</td>\n",
       "      <td>NO</td>\n",
       "      <td>6</td>\n",
       "      <td>https://www.fotocasa.es//es/comprar/vivienda/l...</td>\n",
       "      <td>San Esteban</td>\n",
       "      <td>León</td>\n",
       "    </tr>\n",
       "    <tr>\n",
       "      <th>15</th>\n",
       "      <td>Piso con terraza en San Esteban</td>\n",
       "      <td>125.000 €</td>\n",
       "      <td>3</td>\n",
       "      <td>2</td>\n",
       "      <td>109</td>\n",
       "      <td>2</td>\n",
       "      <td>SI</td>\n",
       "      <td>62</td>\n",
       "      <td>https://www.fotocasa.es//es/comprar/vivienda/l...</td>\n",
       "      <td>San Esteban</td>\n",
       "      <td>León</td>\n",
       "    </tr>\n",
       "    <tr>\n",
       "      <th>16</th>\n",
       "      <td>Dúplex con 2 baños en Gumersindo Azcarate, San...</td>\n",
       "      <td>145.000 €</td>\n",
       "      <td>3</td>\n",
       "      <td>1</td>\n",
       "      <td>102</td>\n",
       "      <td>2</td>\n",
       "      <td>NO</td>\n",
       "      <td>1</td>\n",
       "      <td>https://www.fotocasa.es//es/comprar/vivienda/l...</td>\n",
       "      <td>San Esteban</td>\n",
       "      <td>León</td>\n",
       "    </tr>\n",
       "    <tr>\n",
       "      <th>17</th>\n",
       "      <td>Dúplex con 2 baños en Gumersindo Azcarate, San...</td>\n",
       "      <td>145.000 €</td>\n",
       "      <td>3</td>\n",
       "      <td>1</td>\n",
       "      <td>102</td>\n",
       "      <td>2</td>\n",
       "      <td>NO</td>\n",
       "      <td>6</td>\n",
       "      <td>https://www.fotocasa.es//es/comprar/vivienda/l...</td>\n",
       "      <td>San Esteban</td>\n",
       "      <td>León</td>\n",
       "    </tr>\n",
       "    <tr>\n",
       "      <th>18</th>\n",
       "      <td>Dúplex con terraza en San Esteban</td>\n",
       "      <td>120.000 €</td>\n",
       "      <td>3</td>\n",
       "      <td>0</td>\n",
       "      <td>115</td>\n",
       "      <td>2</td>\n",
       "      <td>SI</td>\n",
       "      <td>14</td>\n",
       "      <td>https://www.fotocasa.es//es/comprar/vivienda/l...</td>\n",
       "      <td>San Esteban</td>\n",
       "      <td>León</td>\n",
       "    </tr>\n",
       "    <tr>\n",
       "      <th>19</th>\n",
       "      <td>Piso con terraza en San Esteban</td>\n",
       "      <td>266.000 €</td>\n",
       "      <td>2</td>\n",
       "      <td>0</td>\n",
       "      <td>129</td>\n",
       "      <td>2</td>\n",
       "      <td>SI</td>\n",
       "      <td>23</td>\n",
       "      <td>https://www.fotocasa.es//es/comprar/vivienda/l...</td>\n",
       "      <td>San Esteban</td>\n",
       "      <td>León</td>\n",
       "    </tr>\n",
       "    <tr>\n",
       "      <th>20</th>\n",
       "      <td>Apartamento con ascensor en San Esteban</td>\n",
       "      <td>58.000 €</td>\n",
       "      <td>2</td>\n",
       "      <td>2</td>\n",
       "      <td>60</td>\n",
       "      <td>2</td>\n",
       "      <td>SI</td>\n",
       "      <td>105</td>\n",
       "      <td>https://www.fotocasa.es//es/comprar/vivienda/l...</td>\n",
       "      <td>San Esteban</td>\n",
       "      <td>León</td>\n",
       "    </tr>\n",
       "    <tr>\n",
       "      <th>21</th>\n",
       "      <td>Piso en Calle Pérez Crespo, San Esteban</td>\n",
       "      <td>95.900 €</td>\n",
       "      <td>3</td>\n",
       "      <td>5</td>\n",
       "      <td>85</td>\n",
       "      <td>1</td>\n",
       "      <td>SI</td>\n",
       "      <td>9</td>\n",
       "      <td>https://www.fotocasa.es//es/comprar/vivienda/l...</td>\n",
       "      <td>San Esteban</td>\n",
       "      <td>León</td>\n",
       "    </tr>\n",
       "    <tr>\n",
       "      <th>22</th>\n",
       "      <td>Piso con terraza en San Esteban</td>\n",
       "      <td>135.000 €</td>\n",
       "      <td>4</td>\n",
       "      <td>4</td>\n",
       "      <td>100</td>\n",
       "      <td>2</td>\n",
       "      <td>SI</td>\n",
       "      <td>185</td>\n",
       "      <td>https://www.fotocasa.es//es/comprar/vivienda/l...</td>\n",
       "      <td>San Esteban</td>\n",
       "      <td>León</td>\n",
       "    </tr>\n",
       "    <tr>\n",
       "      <th>23</th>\n",
       "      <td>Dúplex con terraza en Avenida de Mariano André...</td>\n",
       "      <td>120.000 €</td>\n",
       "      <td>3</td>\n",
       "      <td>3</td>\n",
       "      <td>115</td>\n",
       "      <td>2</td>\n",
       "      <td>SI</td>\n",
       "      <td>0</td>\n",
       "      <td>https://www.fotocasa.es//es/comprar/vivienda/l...</td>\n",
       "      <td>San Esteban</td>\n",
       "      <td>León</td>\n",
       "    </tr>\n",
       "    <tr>\n",
       "      <th>24</th>\n",
       "      <td>Piso con terraza en Castro Sopeña, San Esteban</td>\n",
       "      <td>199.900 €</td>\n",
       "      <td>5</td>\n",
       "      <td>\\r</td>\n",
       "      <td>213</td>\n",
       "      <td>3</td>\n",
       "      <td>NO</td>\n",
       "      <td>0</td>\n",
       "      <td>https://www.fotocasa.es//es/comprar/vivienda/l...</td>\n",
       "      <td>San Esteban</td>\n",
       "      <td>León</td>\n",
       "    </tr>\n",
       "    <tr>\n",
       "      <th>25</th>\n",
       "      <td>Piso con terraza en San Esteban</td>\n",
       "      <td>170.000 €</td>\n",
       "      <td>5</td>\n",
       "      <td>1</td>\n",
       "      <td>142</td>\n",
       "      <td>2</td>\n",
       "      <td>SI</td>\n",
       "      <td>0</td>\n",
       "      <td>https://www.fotocasa.es//es/comprar/vivienda/l...</td>\n",
       "      <td>San Esteban</td>\n",
       "      <td>León</td>\n",
       "    </tr>\n",
       "    <tr>\n",
       "      <th>26</th>\n",
       "      <td>Piso con terraza en San Esteban</td>\n",
       "      <td>150.000 €</td>\n",
       "      <td>3</td>\n",
       "      <td>7</td>\n",
       "      <td>136</td>\n",
       "      <td>2</td>\n",
       "      <td>SI</td>\n",
       "      <td>0</td>\n",
       "      <td>https://www.fotocasa.es//es/comprar/vivienda/l...</td>\n",
       "      <td>San Esteban</td>\n",
       "      <td>León</td>\n",
       "    </tr>\n",
       "    <tr>\n",
       "      <th>27</th>\n",
       "      <td>Piso con 1 baño en Maestro Uriarte, San Esteban</td>\n",
       "      <td>59.000 €</td>\n",
       "      <td>2</td>\n",
       "      <td>None</td>\n",
       "      <td>60</td>\n",
       "      <td>1</td>\n",
       "      <td>NO</td>\n",
       "      <td>0</td>\n",
       "      <td>https://www.fotocasa.es//es/comprar/vivienda/l...</td>\n",
       "      <td>San Esteban</td>\n",
       "      <td>León</td>\n",
       "    </tr>\n",
       "    <tr>\n",
       "      <th>28</th>\n",
       "      <td>Piso con 2 baños en San Esteban</td>\n",
       "      <td>215.000 €</td>\n",
       "      <td>4</td>\n",
       "      <td>0</td>\n",
       "      <td>138</td>\n",
       "      <td>2</td>\n",
       "      <td>NO</td>\n",
       "      <td>0</td>\n",
       "      <td>https://www.fotocasa.es//es/comprar/vivienda/l...</td>\n",
       "      <td>San Esteban</td>\n",
       "      <td>León</td>\n",
       "    </tr>\n",
       "    <tr>\n",
       "      <th>29</th>\n",
       "      <td>Piso con 1 baño en San Esteban</td>\n",
       "      <td>53.000 €</td>\n",
       "      <td>1</td>\n",
       "      <td>2</td>\n",
       "      <td>52</td>\n",
       "      <td>1</td>\n",
       "      <td>NO</td>\n",
       "      <td>0</td>\n",
       "      <td>https://www.fotocasa.es//es/comprar/vivienda/l...</td>\n",
       "      <td>San Esteban</td>\n",
       "      <td>León</td>\n",
       "    </tr>\n",
       "  </tbody>\n",
       "</table>\n",
       "</div>"
      ],
      "text/plain": [
       "                                               Título     Precio Habitaciones  \\\n",
       "0           Piso con terraza en Peñalba, San Esteban    97.000 €            3   \n",
       "1                Piso con calefacción en San Esteban    56.000 €            3   \n",
       "2             Apartamento con terraza en San Esteban    80.000 €            2   \n",
       "3   Casa o chalet con 2 baños en Dama de Arintero,...   65.000 €            4   \n",
       "4   Apartamento con terraza en Calle Peña Labra, S...   95.000 €            2   \n",
       "5    Piso con 1 baño en Calle León XIII, San Esteban    45.000 €            2   \n",
       "6   Piso con terraza en Calle San Juan de Prado, S...  200.000 €            4   \n",
       "7                    Piso con terraza en San Esteban    99.000 €            3   \n",
       "8            Apartamento con ascensor en San Esteban    89.000 €            2   \n",
       "9   Piso con ascensor en Mariano Andrés, San Esteban   110.000 €            3   \n",
       "10  Piso con terraza en Calle la Cepeda, San Esteban   125.000 €            3   \n",
       "11        Piso con balcón en Padre Isla, San Esteban   115.000 €            3   \n",
       "12   Piso con ascensor en Calle Cornion, San Esteban   130.000 €            3   \n",
       "13                  Piso con ascensor en San Esteban   139.000 €            3   \n",
       "14      Piso con terraza en Peña Castro, San Esteban    75.000 €            3   \n",
       "15                   Piso con terraza en San Esteban   125.000 €            3   \n",
       "16  Dúplex con 2 baños en Gumersindo Azcarate, San...  145.000 €            3   \n",
       "17  Dúplex con 2 baños en Gumersindo Azcarate, San...  145.000 €            3   \n",
       "18                 Dúplex con terraza en San Esteban   120.000 €            3   \n",
       "19                   Piso con terraza en San Esteban   266.000 €            2   \n",
       "20           Apartamento con ascensor en San Esteban    58.000 €            2   \n",
       "21           Piso en Calle Pérez Crespo, San Esteban    95.900 €            3   \n",
       "22                   Piso con terraza en San Esteban   135.000 €            4   \n",
       "23  Dúplex con terraza en Avenida de Mariano André...  120.000 €            3   \n",
       "24    Piso con terraza en Castro Sopeña, San Esteban   199.900 €            5   \n",
       "25                   Piso con terraza en San Esteban   170.000 €            5   \n",
       "26                   Piso con terraza en San Esteban   150.000 €            3   \n",
       "27   Piso con 1 baño en Maestro Uriarte, San Esteban    59.000 €            2   \n",
       "28                   Piso con 2 baños en San Esteban   215.000 €            4   \n",
       "29                    Piso con 1 baño en San Esteban    53.000 €            1   \n",
       "\n",
       "   Planta Superficie Baños Ascensor  Fecha Publicación  \\\n",
       "0       4        102     1       SI                 31   \n",
       "1       4         83     1       NO                 63   \n",
       "2       4         95     1       SI                  8   \n",
       "3       0        140     2       NO                 29   \n",
       "4       3         70     1       SI                  9   \n",
       "5       2         82     1       NO                 29   \n",
       "6       7        110     2       SI                 45   \n",
       "7       1        110     2       NO                110   \n",
       "8       4         70     1       SI                 53   \n",
       "9       4         90     1       SI                 52   \n",
       "10      4         85     1       SI                106   \n",
       "11      3         85     1       SI                 17   \n",
       "12      3        104     2       SI                145   \n",
       "13      2        123     2       SI                 42   \n",
       "14      4         78     1       NO                  6   \n",
       "15      2        109     2       SI                 62   \n",
       "16      1        102     2       NO                  1   \n",
       "17      1        102     2       NO                  6   \n",
       "18      0        115     2       SI                 14   \n",
       "19      0        129     2       SI                 23   \n",
       "20      2         60     2       SI                105   \n",
       "21      5         85     1       SI                  9   \n",
       "22      4        100     2       SI                185   \n",
       "23      3        115     2       SI                  0   \n",
       "24     \\r        213     3       NO                  0   \n",
       "25      1        142     2       SI                  0   \n",
       "26      7        136     2       SI                  0   \n",
       "27   None         60     1       NO                  0   \n",
       "28      0        138     2       NO                  0   \n",
       "29      2         52     1       NO                  0   \n",
       "\n",
       "                                                Links       Barrio Ciudad  \n",
       "0   https://www.fotocasa.es//es/comprar/vivienda/l...  San Esteban   León  \n",
       "1   https://www.fotocasa.es//es/comprar/vivienda/l...  San Esteban   León  \n",
       "2   https://www.fotocasa.es//es/comprar/vivienda/l...  San Esteban   León  \n",
       "3   https://www.fotocasa.es//es/comprar/vivienda/l...  San Esteban   León  \n",
       "4   https://www.fotocasa.es//es/comprar/vivienda/l...  San Esteban   León  \n",
       "5   https://www.fotocasa.es//es/comprar/vivienda/l...  San Esteban   León  \n",
       "6   https://www.fotocasa.es//es/comprar/vivienda/l...  San Esteban   León  \n",
       "7   https://www.fotocasa.es//es/comprar/vivienda/l...  San Esteban   León  \n",
       "8   https://www.fotocasa.es//es/comprar/vivienda/l...  San Esteban   León  \n",
       "9   https://www.fotocasa.es//es/comprar/vivienda/l...  San Esteban   León  \n",
       "10  https://www.fotocasa.es//es/comprar/vivienda/l...  San Esteban   León  \n",
       "11  https://www.fotocasa.es//es/comprar/vivienda/l...  San Esteban   León  \n",
       "12  https://www.fotocasa.es//es/comprar/vivienda/l...  San Esteban   León  \n",
       "13  https://www.fotocasa.es//es/comprar/vivienda/l...  San Esteban   León  \n",
       "14  https://www.fotocasa.es//es/comprar/vivienda/l...  San Esteban   León  \n",
       "15  https://www.fotocasa.es//es/comprar/vivienda/l...  San Esteban   León  \n",
       "16  https://www.fotocasa.es//es/comprar/vivienda/l...  San Esteban   León  \n",
       "17  https://www.fotocasa.es//es/comprar/vivienda/l...  San Esteban   León  \n",
       "18  https://www.fotocasa.es//es/comprar/vivienda/l...  San Esteban   León  \n",
       "19  https://www.fotocasa.es//es/comprar/vivienda/l...  San Esteban   León  \n",
       "20  https://www.fotocasa.es//es/comprar/vivienda/l...  San Esteban   León  \n",
       "21  https://www.fotocasa.es//es/comprar/vivienda/l...  San Esteban   León  \n",
       "22  https://www.fotocasa.es//es/comprar/vivienda/l...  San Esteban   León  \n",
       "23  https://www.fotocasa.es//es/comprar/vivienda/l...  San Esteban   León  \n",
       "24  https://www.fotocasa.es//es/comprar/vivienda/l...  San Esteban   León  \n",
       "25  https://www.fotocasa.es//es/comprar/vivienda/l...  San Esteban   León  \n",
       "26  https://www.fotocasa.es//es/comprar/vivienda/l...  San Esteban   León  \n",
       "27  https://www.fotocasa.es//es/comprar/vivienda/l...  San Esteban   León  \n",
       "28  https://www.fotocasa.es//es/comprar/vivienda/l...  San Esteban   León  \n",
       "29  https://www.fotocasa.es//es/comprar/vivienda/l...  San Esteban   León  "
      ]
     },
     "execution_count": 61,
     "metadata": {},
     "output_type": "execute_result"
    }
   ],
   "source": [
    "df.drop_duplicates()"
   ]
  },
  {
   "cell_type": "code",
   "execution_count": 62,
   "id": "99d90ce3",
   "metadata": {},
   "outputs": [
    {
     "data": {
      "text/plain": [
       "120"
      ]
     },
     "execution_count": 62,
     "metadata": {},
     "output_type": "execute_result"
    }
   ],
   "source": [
    "len(df)"
   ]
  },
  {
   "cell_type": "code",
   "execution_count": 63,
   "id": "8d4706fb",
   "metadata": {},
   "outputs": [],
   "source": [
    "df.to_csv('for_sale.csv',index=False)"
   ]
  },
  {
   "cell_type": "code",
   "execution_count": null,
   "id": "05682dc4",
   "metadata": {},
   "outputs": [],
   "source": []
  }
 ],
 "metadata": {
  "kernelspec": {
   "display_name": "Python 3 (ipykernel)",
   "language": "python",
   "name": "python3"
  },
  "language_info": {
   "codemirror_mode": {
    "name": "ipython",
    "version": 3
   },
   "file_extension": ".py",
   "mimetype": "text/x-python",
   "name": "python",
   "nbconvert_exporter": "python",
   "pygments_lexer": "ipython3",
   "version": "3.9.10"
  }
 },
 "nbformat": 4,
 "nbformat_minor": 5
}
